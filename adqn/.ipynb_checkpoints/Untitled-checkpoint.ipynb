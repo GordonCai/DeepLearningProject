{
 "cells": [
  {
   "cell_type": "code",
   "execution_count": 1,
   "metadata": {
    "collapsed": true
   },
   "outputs": [],
   "source": [
    "import tensorflow as tf \n",
    "import numpy as np \n",
    "import collections as deque \n",
    "from skimage import color \n",
    "from skimage import color, transform, exposure\n",
    "import pickle \n",
    "import warnings\n",
    "import gym \n",
    "warnings.filterwarnings('ignore')"
   ]
  },
  {
   "cell_type": "code",
   "execution_count": 3,
   "metadata": {
    "collapsed": true
   },
   "outputs": [],
   "source": [
    "def preprocess_observation(self, observation): \n",
    "    x_t1 = color.rgb2gray(observation)\n",
    "    x_t1 = skimage.transform.resize(x_t1, (84,84))\n",
    "    x_t1 = skimage.exposure.rescale_intensity(x_t1, out_range=(0,255))\n",
    "    x_t1 = np.uint8(x_t1)\n",
    "        #x_t1 = x_t1.reshape(1,1, x_t1.shape[0], x_t1.shape[1])\n",
    "    return x_t1 "
   ]
  },
  {
   "cell_type": "code",
   "execution_count": null,
   "metadata": {
    "collapsed": true
   },
   "outputs": [],
   "source": [
    "class DQNAgent(): \n",
    "    def __init__(self, resized_heightm resized_width, action_size, )\n",
    "            tf.global_step = tf.Variable(0, name='Frame', trainable=False)\n",
    "        with tf.variable_scope('network'):\n",
    "            self.action_size = action_size \n",
    "            self.state = tf.placeholder(dtype=float32, shape=[None, 84, 84, 1], name='state')\n",
    "            self.action = tf.placeholder(dtype=int32, shape=[None], name='action')\n",
    "            self.y = tf.placeholder(dtype=int32, shape=[None], name='y')\n",
    "            self.reward = tf.placeholder(dtype=float32, shape=[None], name='reward')\n",
    "    \n",
    "            self.gamma = 0.9\n",
    "            self.epsilon = 1.0 \n",
    "            self.e_decay = 0.99 \n",
    "            self.e_min = 0.01 \n",
    "            self.learning_rate = 0.01 \n",
    "            self.total_reward = 0.0\n",
    "            self.total_loss = 0.0 \n",
    "    \n",
    "            conv1 = tf.contrib.layers.conv2d(self.state, 32, 8, 8, activation_fn=tf.nn.relu)\n",
    "            conv2 = tf.contrib.layers.conv2d(conv1, 64, 4, 4, activation_fn=tf.nn.relu)\n",
    "            conv3 = tf.contrib.layers.conv2d(conv2, 64, 3, 3, activation_fn=tf.nn.relu)\n",
    "            flattened = tf.contrib.layers.flatten(conv3)\n",
    "            fc1 = tf.contrib.layers.fully_connected(flattened, 512, activation_fn=tf.nn.relu)\n",
    "            self.prediction = tf.contrib.layers.fully_connected(fc1, self.action_size)\n",
    "    \n",
    "            action_ind = tf.range(batch_sizes) * tf.shape(self.prediction)[1] + self.action\n",
    "            self.Q = tf.gather(tf.reshape(self.prediction, [-1]), action_ind)\n",
    "        \n",
    "            def return_q(): \n",
    "                return self.Q \n",
    "            \n",
    "    "
   ]
  }
 ],
 "metadata": {
  "kernelspec": {
   "display_name": "Python 3",
   "language": "python",
   "name": "python3"
  },
  "language_info": {
   "codemirror_mode": {
    "name": "ipython",
    "version": 3
   },
   "file_extension": ".py",
   "mimetype": "text/x-python",
   "name": "python",
   "nbconvert_exporter": "python",
   "pygments_lexer": "ipython3",
   "version": "3.6.1"
  }
 },
 "nbformat": 4,
 "nbformat_minor": 2
}
