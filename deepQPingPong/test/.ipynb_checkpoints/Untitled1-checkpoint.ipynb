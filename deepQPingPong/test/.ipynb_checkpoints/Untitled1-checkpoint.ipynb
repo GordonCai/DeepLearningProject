{
 "cells": [
  {
   "cell_type": "code",
   "execution_count": 1,
   "metadata": {
    "collapsed": true
   },
   "outputs": [],
   "source": [
    "import gym \n",
    "import numpy as np "
   ]
  },
  {
   "cell_type": "code",
   "execution_count": 2,
   "metadata": {},
   "outputs": [
    {
     "name": "stderr",
     "output_type": "stream",
     "text": [
      "[2017-04-20 15:02:55,703] Making new env: FrozenLake-v0\n"
     ]
    }
   ],
   "source": [
    "env = gym.make('FrozenLake-v0')"
   ]
  },
  {
   "cell_type": "code",
   "execution_count": 18,
   "metadata": {
    "collapsed": true
   },
   "outputs": [],
   "source": [
    "Q = np.zeros([env.observation_space.n, env.action_space.n])\n",
    "learning_rate = 0.85 \n",
    "y = 0.99 \n",
    "num_episodes = 2000\n",
    "rList = [] \n",
    "for i in range(num_episodes): \n",
    "    s = env.reset() \n",
    "    rAll = 0 \n",
    "    d = False \n",
    "    j = 0 \n",
    "    while j < 99: \n",
    "        j+=1 \n",
    "        a = np.argmax(Q[s,:] + np.random.rand(1,env.action_space.n)*(1.0/(i+1)))\n",
    "        s1, r, d, _ = env.step(a)\n",
    "        Q[s,a] = Q[s,a] + learning_rate*(r + y*np.max(Q[s1,:]) - Q[s,a])\n",
    "        rAll += r \n",
    "        s = s1 \n",
    "        if d == True: \n",
    "            break \n",
    "    rList.append(rAll)"
   ]
  },
  {
   "cell_type": "code",
   "execution_count": 15,
   "metadata": {
    "scrolled": false
   },
   "outputs": [
    {
     "name": "stdout",
     "output_type": "stream",
     "text": [
      "Score over time: 0.681\n",
      "Final Q-Table Values\n",
      "[[  2.47958139e-01   0.00000000e+00   4.94914758e-03   0.00000000e+00]\n",
      " [  0.00000000e+00   6.15423195e-04   0.00000000e+00   3.43023945e-01]\n",
      " [  8.40082512e-04   2.78551290e-01   5.31149677e-03   4.06087667e-03]\n",
      " [  4.88171917e-04   5.30823188e-04   4.99589529e-04   4.09629860e-01]\n",
      " [  3.74387512e-01   0.00000000e+00   0.00000000e+00   4.83979602e-03]\n",
      " [  0.00000000e+00   0.00000000e+00   0.00000000e+00   0.00000000e+00]\n",
      " [  1.43934637e-04   1.01571171e-06   1.42951630e-01   3.47759055e-08]\n",
      " [  0.00000000e+00   0.00000000e+00   0.00000000e+00   0.00000000e+00]\n",
      " [  0.00000000e+00   0.00000000e+00   0.00000000e+00   5.63031345e-01]\n",
      " [  4.17951538e-03   8.56261178e-01   0.00000000e+00   1.67928829e-03]\n",
      " [  8.44755425e-01   3.71991015e-04   0.00000000e+00   1.35277023e-03]\n",
      " [  0.00000000e+00   0.00000000e+00   0.00000000e+00   0.00000000e+00]\n",
      " [  0.00000000e+00   0.00000000e+00   0.00000000e+00   0.00000000e+00]\n",
      " [  6.88581406e-04   5.34665595e-03   9.48518778e-01   0.00000000e+00]\n",
      " [  5.39561784e-03   9.92428828e-01   0.00000000e+00   0.00000000e+00]\n",
      " [  0.00000000e+00   0.00000000e+00   0.00000000e+00   0.00000000e+00]]\n"
     ]
    }
   ],
   "source": [
    "print(\"Score over time: \" +  str(sum(rList)/num_episodes))\n",
    "print(\"Final Q-Table Values\")\n",
    "print(Q)"
   ]
  },
  {
   "cell_type": "code",
   "execution_count": 19,
   "metadata": {
    "collapsed": true
   },
   "outputs": [],
   "source": [
    "import gym\n",
    "import numpy as np\n",
    "import random\n",
    "import tensorflow as tf\n",
    "import matplotlib.pyplot as plt\n",
    "%matplotlib inline"
   ]
  },
  {
   "cell_type": "code",
   "execution_count": 20,
   "metadata": {},
   "outputs": [
    {
     "name": "stderr",
     "output_type": "stream",
     "text": [
      "[2017-04-20 16:03:51,961] Making new env: FrozenLake-v0\n"
     ]
    }
   ],
   "source": [
    "env = gym.make('FrozenLake-v0')"
   ]
  },
  {
   "cell_type": "code",
   "execution_count": 21,
   "metadata": {
    "collapsed": true
   },
   "outputs": [],
   "source": [
    "tf.reset_default_graph() \n",
    "inputs1 = tf.placeholder(shape=[1,16], dtype=tf.float32)\n",
    "W = tf.Variable(tf.random_uniform([16,4], 0, 0.01))\n",
    "Qout = tf.matmul(inputs1, W)\n",
    "predict = tf.argmax(Qout, 1)\n",
    "\n",
    "nextQ = tf.placeholder(shape=[1,4], dtype=tf.float32)\n",
    "loss = tf.reduce_sum(tf.square(nextQ - Qout))\n",
    "trainer = tf.train.GradientDescentOptimizer(learning_rate=0.1)\n",
    "updateModel = trainer.minimize(loss)"
   ]
  },
  {
   "cell_type": "code",
   "execution_count": null,
   "metadata": {
    "collapsed": true
   },
   "outputs": [],
   "source": [
    "init = tf.initialize_all_variables() \n",
    "y = 0.99 \n",
    "e = 0.1 \n",
    "num_episodes = 2000 \n",
    "jList = [] \n",
    "rList = []\n",
    "with tf.Session() as sess: \n",
    "    sess.run(init) \n",
    "    for i in range(num_episodes): \n",
    "        s = env.reset() \n",
    "        "
   ]
  }
 ],
 "metadata": {
  "kernelspec": {
   "display_name": "Python 3",
   "language": "python",
   "name": "python3"
  },
  "language_info": {
   "codemirror_mode": {
    "name": "ipython",
    "version": 3
   },
   "file_extension": ".py",
   "mimetype": "text/x-python",
   "name": "python",
   "nbconvert_exporter": "python",
   "pygments_lexer": "ipython3",
   "version": "3.6.1"
  }
 },
 "nbformat": 4,
 "nbformat_minor": 2
}
