{
 "cells": [
  {
   "cell_type": "code",
   "execution_count": 1,
   "metadata": {},
   "outputs": [
    {
     "name": "stderr",
     "output_type": "stream",
     "text": [
      "Using TensorFlow backend.\n"
     ]
    }
   ],
   "source": [
    "import gym \n",
    "import numpy as np \n",
    "import tensorflow as tf \n",
    "import keras \n",
    "from PIL import Image \n",
    "from collections import deque\n",
    "import random \n",
    "from keras import initializers\n",
    "from keras.initializers import normal, identity\n",
    "from keras.models import model_from_json\n",
    "from keras.models import Sequential\n",
    "from keras.layers.core import Dense, Dropout, Activation, Flatten\n",
    "from keras.layers.convolutional import Convolution2D, MaxPooling2D\n",
    "from keras.optimizers import SGD , Adam\n",
    "import tensorflow as tf\n",
    "import json\n",
    "import skimage\n",
    "from skimage import color \n",
    "from skimage import color, transform, exposure\n",
    "import argparse"
   ]
  },
  {
   "cell_type": "code",
   "execution_count": 2,
   "metadata": {
    "collapsed": true
   },
   "outputs": [],
   "source": [
    "OBSERVATIONS = 3200 \n",
    "ACTIONS = 6 \n",
    "CONFIG = 'nothreshold'\n",
    "BATCH = 32 \n",
    "img_rows, img_cols = 80, 80\n",
    "img_channels = 1 \n",
    "LEARNING_RATE = 1e-4\n",
    "EXPLORE = 3000000\n",
    "GAMMA = 0.99 \n",
    "REPLAY_MEMORY = 50000\n",
    "FRAME_PER_ACTION = 1 \n"
   ]
  },
  {
   "cell_type": "code",
   "execution_count": 3,
   "metadata": {
    "collapsed": true
   },
   "outputs": [],
   "source": [
    "def build_model(): \n",
    "    print(\"Now we build the model\")\n",
    "    model = Sequential()\n",
    "    model.add(Convolution2D(32, 8, 8, subsample=(4, 4), border_mode='same',input_shape=(img_rows,img_cols,img_channels)))  #80*80*4\n",
    "    model.add(Activation('relu'))\n",
    "    model.add(Convolution2D(64, 4, 4, subsample=(2, 2), border_mode='same'))\n",
    "    model.add(Activation('relu'))\n",
    "    model.add(Convolution2D(64, 3, 3, subsample=(1, 1), border_mode='same'))\n",
    "    model.add(Activation('relu'))\n",
    "    model.add(Flatten())\n",
    "    model.add(Dense(512))\n",
    "    model.add(Activation('relu'))\n",
    "    model.add(Dense(2))\n",
    "   \n",
    "    adam = Adam(lr=LEARNING_RATE)\n",
    "    model.compile(loss='mse',optimizer=adam)\n",
    "    print(\"We finish building the model\")\n",
    "    return model "
   ]
  },
  {
   "cell_type": "code",
   "execution_count": 4,
   "metadata": {
    "collapsed": true
   },
   "outputs": [],
   "source": [
    "def preprocess_observation1(observation): \n",
    "    size = 80, 80\n",
    "    imfile = Image.fromarray(observation)\n",
    "    imfile = imfile.thumbnail(size, Image.ANTIALIAS)\n",
    "    obs = np.asarray(imfile)\n",
    "    return obs"
   ]
  },
  {
   "cell_type": "code",
   "execution_count": 5,
   "metadata": {
    "collapsed": true
   },
   "outputs": [],
   "source": [
    "def preprocess_observation(observation): \n",
    "    x_t1 = color.rgb2gray(observation)\n",
    "    x_t1 = skimage.transform.resize(x_t1, (80,80))\n",
    "    x_t1 = skimage.exposure.rescale_intensity(x_t1, out_range=(0,255))\n",
    "    x_t1 = x_t1.reshape(1,1, x_t1.shape[0], x_t1.shape[1])\n",
    "    return x_t1 \n",
    "    "
   ]
  },
  {
   "cell_type": "code",
   "execution_count": 6,
   "metadata": {
    "collapsed": true
   },
   "outputs": [],
   "source": [
    "def train_model(model):\n",
    "    D = deque() \n",
    "    \n",
    "    do_nothing = np.zeros(ACTIONS)\n",
    "    do_nothing[0] = 0 \n",
    "    x_t = preprocess_observation(obs)\n",
    "    \n",
    "    s_t = np.stack((x_t, x_t, x_t, x_t), axis=2) \n",
    "    s_t = s_t.reshape(1,s_t.shape[0], s_t.shape[1], s_t.shape[2])\n",
    "    \n",
    "    OBSERVE = OBSERVATION \n",
    "    epsilon = INITIAL_EPSILON \n",
    "    \n",
    "    while(True): \n",
    "        loss = 0 \n",
    "        Q_sa = 0\n",
    "        action_index = 0 \n",
    "        a_t = np.zeros([action])\n",
    "        if t % FRAME_PER_ACTION == 0: \n",
    "            if random.random() <= epsilon: \n",
    "                action_index = random.randrange(ACTIONS)\n",
    "                a_t[action_index] = 1 \n",
    "            else: \n",
    "                q = model.predict(s_t) \n",
    "                max_Q = np.argmax(q) \n",
    "                action_index = max_Q \n",
    "                a_t[max_Q] = 1\n",
    "                \n",
    "        if epsilon > FINAL_EPSILON and t > OBSERVE: \n",
    "            epsilon -= (INITIAL_EPSILON - FINAL_EPSILON)/EXPLORE\n",
    "        x_t1_colored, reward, done, info = env.step(a_t)\n",
    "        x_t1 = processed_observation(x_t1_colored)\n",
    "        s_t1 = np.append(x_t1, s_t[:, :, :, :3], axis=3)\n",
    "        D.append((s_t, action_index, reward, s_t1, done))\n",
    "        if len(D) > REPLAY_MEMORY: \n",
    "            D.popleft() \n",
    "        if t > OBSERVE: \n",
    "            minibatch = random.sample(D, batch)\n",
    "            inputs = np.zeros((BATCH, s_t.shape[1], s_t.shape[2], s_t.shape[3]))\n",
    "            print(inputs.shape)\n",
    "            targets = np.zeros((inputs.shape[0], ACTIONS))\n",
    "        for i in range(0, len(minibatch)): \n",
    "            state_t = minibatch[i][0]\n",
    "            action_t = minibatch[i][1]\n",
    "            reward_t = minibatch[i][2]\n",
    "            state_t1 = minibatch[i][3]\n",
    "            terminal = minibatch[i][4]\n",
    "        \n",
    "            inputs[i:i + 1] = state_t\n",
    "            targets[i] = model.predict(state_t)\n",
    "            Q_sa = model.predict(state_t1)\n",
    "            if terminal: \n",
    "                targets[i, action_t] = reward_t \n",
    "            else: \n",
    "                targets[i, action_t] = reward_t + GAMMA * np.max(Q_sa)\n",
    "        loss += model.train_on_batch(inputs, targets)\n",
    "    s_t = s_t1 \n",
    "    t = t + 1 \n",
    "    \n",
    "    if t%1000 == 0: \n",
    "        print(\"saving model\")\n",
    "        model.save_weights(\"model.h5\", overwrite=True)\n",
    "        with open(\"model.json\", \"w\") as outfile: \n",
    "            json.dump(model.to_json(), outfile)\n",
    "    state = \"\"\n",
    "    if t <= OBSERVE: \n",
    "        state = \"explore\"\n",
    "    elif t > OBSERVE and t <= OBSERVE + EXPLORE: \n",
    "        state = \"explore\" \n",
    "    else: \n",
    "        state = \"train\"\n",
    "    \n",
    "    print(\"TIMESTEP\", t, \"/ STATE\", state, \"/ EPSILON\", epsilon, \"/ ACTION\", action_index, \"/ REWARD\", r_t, \"/ Q_MAX \", np.max(Q_sa), \"/ Loss \", loss)"
   ]
  },
  {
   "cell_type": "code",
   "execution_count": 7,
   "metadata": {
    "collapsed": true
   },
   "outputs": [],
   "source": [
    "def train_game():\n",
    "    model = build_model()\n",
    "    return model"
   ]
  },
  {
   "cell_type": "code",
   "execution_count": 12,
   "metadata": {
    "collapsed": true
   },
   "outputs": [],
   "source": [
    "def main(): \n",
    "\n",
    "    model = train_game()\n",
    "    train_network()\n",
    "    env.render() \n",
    "#         action = env.action_space.sample() \n",
    "#         obs, reward, done, info = env.step(action)\n",
    "#         obs = preprocess_observation(obs)\n",
    "         \n",
    "    env.close() \n",
    "      \n"
   ]
  },
  {
   "cell_type": "code",
   "execution_count": 13,
   "metadata": {},
   "outputs": [
    {
     "name": "stdout",
     "output_type": "stream",
     "text": [
      "Now we build the model\n",
      "We finish building the model\n"
     ]
    },
    {
     "name": "stderr",
     "output_type": "stream",
     "text": [
      "/home/mjhaveri/anaconda3/envs/DeepLearning/lib/python3.6/site-packages/keras/legacy/interfaces.py:86: UserWarning: Update your `Conv2D` call to the Keras 2 API: `Conv2D(32, (8, 8), input_shape=(80, 80, 1..., strides=(4, 4), padding=\"same\")`\n",
      "  '` call to the Keras 2 API: ' + signature)\n",
      "/home/mjhaveri/anaconda3/envs/DeepLearning/lib/python3.6/site-packages/keras/legacy/interfaces.py:86: UserWarning: Update your `Conv2D` call to the Keras 2 API: `Conv2D(64, (4, 4), strides=(2, 2), padding=\"same\")`\n",
      "  '` call to the Keras 2 API: ' + signature)\n",
      "/home/mjhaveri/anaconda3/envs/DeepLearning/lib/python3.6/site-packages/keras/legacy/interfaces.py:86: UserWarning: Update your `Conv2D` call to the Keras 2 API: `Conv2D(64, (3, 3), strides=(1, 1), padding=\"same\")`\n",
      "  '` call to the Keras 2 API: ' + signature)\n"
     ]
    },
    {
     "ename": "NameError",
     "evalue": "name 'env' is not defined",
     "output_type": "error",
     "traceback": [
      "\u001b[0;31m---------------------------------------------------------------------------\u001b[0m",
      "\u001b[0;31mNameError\u001b[0m                                 Traceback (most recent call last)",
      "\u001b[0;32m<ipython-input-13-58ca95c5b364>\u001b[0m in \u001b[0;36m<module>\u001b[0;34m()\u001b[0m\n\u001b[0;32m----> 1\u001b[0;31m \u001b[0mmain\u001b[0m\u001b[0;34m(\u001b[0m\u001b[0;34m)\u001b[0m\u001b[0;34m\u001b[0m\u001b[0m\n\u001b[0m",
      "\u001b[0;32m<ipython-input-12-79d47ac5537d>\u001b[0m in \u001b[0;36mmain\u001b[0;34m()\u001b[0m\n\u001b[1;32m      3\u001b[0m     \u001b[0mmodel\u001b[0m \u001b[0;34m=\u001b[0m \u001b[0mtrain_game\u001b[0m\u001b[0;34m(\u001b[0m\u001b[0;34m)\u001b[0m\u001b[0;34m\u001b[0m\u001b[0m\n\u001b[1;32m      4\u001b[0m \u001b[0;34m\u001b[0m\u001b[0m\n\u001b[0;32m----> 5\u001b[0;31m     \u001b[0menv\u001b[0m\u001b[0;34m.\u001b[0m\u001b[0mrender\u001b[0m\u001b[0;34m(\u001b[0m\u001b[0;34m)\u001b[0m\u001b[0;34m\u001b[0m\u001b[0m\n\u001b[0m\u001b[1;32m      6\u001b[0m \u001b[0;31m#         action = env.action_space.sample()\u001b[0m\u001b[0;34m\u001b[0m\u001b[0;34m\u001b[0m\u001b[0m\n\u001b[1;32m      7\u001b[0m \u001b[0;31m#         obs, reward, done, info = env.step(action)\u001b[0m\u001b[0;34m\u001b[0m\u001b[0;34m\u001b[0m\u001b[0m\n",
      "\u001b[0;31mNameError\u001b[0m: name 'env' is not defined"
     ]
    }
   ],
   "source": [
    "main()"
   ]
  },
  {
   "cell_type": "code",
   "execution_count": 9,
   "metadata": {},
   "outputs": [
    {
     "name": "stderr",
     "output_type": "stream",
     "text": [
      "usage: ipykernel_launcher.py [-h] -m MODE\n",
      "ipykernel_launcher.py: error: the following arguments are required: -m/--mode\n"
     ]
    },
    {
     "ename": "SystemExit",
     "evalue": "2",
     "output_type": "error",
     "traceback": [
      "An exception has occurred, use %tb to see the full traceback.\n",
      "\u001b[0;31mSystemExit\u001b[0m\u001b[0;31m:\u001b[0m 2\n"
     ]
    },
    {
     "name": "stderr",
     "output_type": "stream",
     "text": [
      "/home/mjhaveri/anaconda3/envs/DeepLearning/lib/python3.6/site-packages/IPython/core/interactiveshell.py:2889: UserWarning: To exit: use 'exit', 'quit', or Ctrl-D.\n",
      "  warn(\"To exit: use 'exit', 'quit', or Ctrl-D.\", stacklevel=1)\n"
     ]
    }
   ],
   "source": []
  },
  {
   "cell_type": "code",
   "execution_count": null,
   "metadata": {
    "collapsed": true
   },
   "outputs": [],
   "source": []
  }
 ],
 "metadata": {
  "anaconda-cloud": {},
  "kernelspec": {
   "display_name": "Python 3",
   "language": "python",
   "name": "python3"
  },
  "language_info": {
   "codemirror_mode": {
    "name": "ipython",
    "version": 3
   },
   "file_extension": ".py",
   "mimetype": "text/x-python",
   "name": "python",
   "nbconvert_exporter": "python",
   "pygments_lexer": "ipython3",
   "version": "3.6.1"
  }
 },
 "nbformat": 4,
 "nbformat_minor": 1
}
